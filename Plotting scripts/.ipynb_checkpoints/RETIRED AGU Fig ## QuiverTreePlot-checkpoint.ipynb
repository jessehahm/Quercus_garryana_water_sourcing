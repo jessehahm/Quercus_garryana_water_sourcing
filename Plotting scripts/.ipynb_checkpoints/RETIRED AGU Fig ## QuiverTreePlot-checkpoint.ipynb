{
 "cells": [
  {
   "cell_type": "code",
   "execution_count": 5,
   "metadata": {},
   "outputs": [],
   "source": [
    "import pandas as pd\n",
    "import matplotlib.pyplot as plt\n",
    "import numpy as np\n",
    "from matplotlib import cm\n",
    "import matplotlib.cm as cmx\n",
    "import matplotlib.colors as colors\n",
    "plt.rcParams[\"font.sans-serif\"] = \"Arial\"\n",
    "plt.rcParams['pdf.fonttype'] = 42\n",
    "plt.rcParams['ps.fonttype'] = 42\n",
    "plt.rcParams['figure.autolayout'] = True\n",
    "\n",
    "plt.rcParams['mathtext.fontset'] = 'stix'\n",
    "plt.rcParams['mathtext.rm'] = 'Helvetica'\n",
    "plt.rcParams['mathtext.it'] = 'Helvetica:italic'\n",
    "plt.rcParams['mathtext.bf'] = 'Helvetica:bold'\n",
    "plt.rcParams['font.size'] = 8\n",
    "from datetime import datetime\n",
    "import matplotlib as mpl\n",
    "%matplotlib inline\n",
    "\n"
   ]
  },
  {
   "cell_type": "code",
   "execution_count": 6,
   "metadata": {},
   "outputs": [],
   "source": [
    "df = pd.read_csv('../Data/isotope-data.csv',\n",
    "                 sep=',',  skiprows = [1])\n",
    "df['Time Collected'] = df['Time Collected'].fillna('12:00')\n",
    "df['datetime'] = pd.to_datetime(df['Date Collected']+ ' ' + df['Time Collected'])\n",
    "df['date'] = pd.to_datetime(df['Date Collected'])\n",
    "\n",
    "\n",
    "sagehornOaks = df[df['Species (scientific)']=='QUGA']\n",
    "\n",
    "startDateTime = pd.to_datetime('2016-01-01 00:00:00')\n",
    "stopDateTime = pd.to_datetime('2017-01-01 00:00:00')\n",
    "\n",
    "sagehornOaks2016 = sagehornOaks[sagehornOaks['datetime'] > startDateTime] \n",
    "sagehornOaks2016 = sagehornOaks2016[sagehornOaks2016['datetime'] < stopDateTime] \n",
    "\n",
    "stems = sagehornOaks2016[sagehornOaks2016['Sample Type II']=='Stem']\n",
    "stems = stems[stems.Location != 'T87']\n"
   ]
  },
  {
   "cell_type": "code",
   "execution_count": 7,
   "metadata": {},
   "outputs": [
    {
     "data": {
      "text/plain": [
       "{'T1/207', 'T166/NT ADJ', 'T167/208', 'T168/209', 'T3/204', 'T4/205', 'T5/206'}"
      ]
     },
     "execution_count": 7,
     "metadata": {},
     "output_type": "execute_result"
    }
   ],
   "source": [
    "set(stems['Location'])\n"
   ]
  },
  {
   "cell_type": "code",
   "execution_count": 8,
   "metadata": {},
   "outputs": [],
   "source": [
    "sagehornGW = df[df['Sample Type II'] == 'Well water']\n",
    "sagehornGW = sagehornGW[(sagehornGW['Location'] == 'MN1') | \n",
    "                      (sagehornGW['Location'] == 'MN-1') |\n",
    "                      (sagehornGW['Location'] == 'MS4') |\n",
    "                      (sagehornGW['Location'] == 'MS-4')|\n",
    "                      (sagehornGW['Location'] == 'W507')]\n",
    "startDateTime = pd.to_datetime('2016-04-01 00:00:00')\n",
    "stopDateTime = pd.to_datetime('2016-12-01 00:00:00')\n",
    "\n",
    "sagehornGW = sagehornGW[sagehornGW['datetime'] > startDateTime] \n",
    "sagehornGW = sagehornGW[sagehornGW['datetime'] < stopDateTime] \n"
   ]
  },
  {
   "cell_type": "code",
   "execution_count": null,
   "metadata": {},
   "outputs": [],
   "source": []
  },
  {
   "cell_type": "code",
   "execution_count": 11,
   "metadata": {},
   "outputs": [],
   "source": [
    "drilled = df[(df['Sample Type II']=='Drilled material')]\n",
    "drilled = drilled[drilled['Location'] != 'W504']\n",
    "\n",
    "\n",
    "\n"
   ]
  },
  {
   "cell_type": "code",
   "execution_count": 32,
   "metadata": {},
   "outputs": [],
   "source": [
    "may2016gw = sagehornGW[(sagehornGW['date'] > pd.to_datetime('2016-05-01 00:00:00')) &\n",
    "                      (sagehornGW['date'] < pd.to_datetime('2016-06-01 00:00:00'))]\n",
    "nov2016gw = sagehornGW[(sagehornGW['date'] > pd.to_datetime('2016-10-30 00:00:00')) &\n",
    "                      (sagehornGW['date'] < pd.to_datetime('2016-11-02 00:00:00'))]"
   ]
  },
  {
   "cell_type": "code",
   "execution_count": 33,
   "metadata": {},
   "outputs": [],
   "source": [
    "may2016Soil = drilled[(drilled['date'] > pd.to_datetime('2016-05-01 00:00:00')) &\n",
    "                      (drilled['date'] < pd.to_datetime('2016-06-01 00:00:00'))]\n",
    "nov2016Soil = drilled[(drilled['date'] > pd.to_datetime('2016-10-30 00:00:00')) &\n",
    "                      (drilled['date'] < pd.to_datetime('2016-11-02 00:00:00'))]"
   ]
  },
  {
   "cell_type": "code",
   "execution_count": 26,
   "metadata": {},
   "outputs": [
    {
     "data": {
      "text/plain": [
       "309    10.0\n",
       "310     5.0\n",
       "311     5.0\n",
       "312    10.0\n",
       "313     5.0\n",
       "316    10.0\n",
       "321     5.0\n",
       "323    10.0\n",
       "324    10.0\n",
       "Name: Depth (cm), dtype: float64"
      ]
     },
     "execution_count": 26,
     "metadata": {},
     "output_type": "execute_result"
    }
   ],
   "source": [
    "may2016Soil['Depth (cm)']"
   ]
  },
  {
   "cell_type": "code",
   "execution_count": 45,
   "metadata": {},
   "outputs": [
    {
     "name": "stderr",
     "output_type": "stream",
     "text": [
      "/Users/wjh/anaconda/envs/env1/lib/python2.7/site-packages/ipykernel/__main__.py:10: SettingWithCopyWarning: \n",
      "A value is trying to be set on a copy of a slice from a DataFrame\n",
      "\n",
      "See the caveats in the documentation: http://pandas.pydata.org/pandas-docs/stable/indexing.html#indexing-view-versus-copy\n"
     ]
    },
    {
     "data": {
      "image/png": "[encoded data removed]",
      "text/plain": [
       "<matplotlib.figure.Figure at 0x10c783a90>"
      ]
     },
     "metadata": {},
     "output_type": "display_data"
    }
   ],
   "source": [
    "plotMay = False\n",
    "plotNov = False\n",
    "plotMayGW =False\n",
    "plotNovGW = True\n",
    "plotMaySoil=False\n",
    "plotNovSoil = True\n",
    "\n",
    "\n",
    "tree = stems[stems['Location']=='T167/208']\n",
    "tree.sort_values(by='date',inplace=True)\n",
    "plt.rcParams['font.size'] = 8\n",
    "\n",
    "fig, ax = plt.subplots(1, 1, sharex=True, figsize=((3),(3)))\n",
    "# ax.scatter(T207.dO, T207.dD)\n",
    "\n",
    "days = sorted((set(tree.date)))\n",
    "cNorm  = colors.Normalize(vmin=-1, vmax=(len(days)))\n",
    "scalarMap = cmx.ScalarMappable(norm=cNorm, cmap=plt.get_cmap('cubehelix') ) #_r reverses cmap\n",
    "\n",
    "\n",
    "for day in days:\n",
    "    thisDay = tree[tree.date==day]\n",
    "    ax.scatter(thisDay.dO, thisDay.dD, s=30,\n",
    "               marker='^', \n",
    "                 label=day.date(),\n",
    "                 c=colors.rgb2hex(scalarMap.to_rgba((days.index(day)))), #alpha=0.8,\n",
    "                 zorder=100,edgecolor='black')\n",
    "\n",
    "ax.set_xlabel(r'$\\delta^{18}$O' + u'\\u2030')\n",
    "ax.set_ylabel(r'$\\delta$D' + u'\\u2030')\n",
    "\n",
    "ax.quiver(tree['dO'][:-1], tree['dD'][:-1], \n",
    "          np.roll(tree['dO'].values,-1)[:-1]-tree['dO'][:-1], np.roll(tree['dD'].values,-1)[:-1]-tree['dD'][:-1],\n",
    "          scale=1, color='grey',\n",
    "          scale_units='xy', angles='xy',\n",
    "          headwidth=5,headlength=8)\n",
    "ax.legend(loc='upper left',scatterpoints=1,fontsize=8,handletextpad=0)\n",
    "\n",
    "if plotMay ==True:\n",
    "       ax.scatter(may2016gw.dO, may2016gw.dD, s=30,\n",
    "                   marker='x', \n",
    "                     label=day.date(),\n",
    "                     c='blue',\n",
    "                     zorder=100,edgecolor='black')\n",
    "\n",
    "if plotMay ==True:\n",
    "       ax.scatter(may2016Soil.dO, may2016Soil.dD, s=30,\n",
    "                   marker='o', \n",
    "                     label=day.date(),\n",
    "                     c='blue',\n",
    "                     zorder=100,edgecolor='black')\n",
    "\n",
    "if plotNov ==True:\n",
    "       ax.scatter(nov2016gw.dO, nov2016gw.dD, s=30,\n",
    "                   marker='x', \n",
    "                     label=day.date(),\n",
    "                     c='blue',\n",
    "                     zorder=100,edgecolor='black')\n",
    "\n",
    "if plotNov ==True:\n",
    "       ax.scatter(nov2016Soil.dO, nov2016Soil.dD, s=30,\n",
    "                   marker='o', \n",
    "                     label=day.date(),\n",
    "                     c='blue',\n",
    "                     zorder=100,edgecolor='black')\n",
    "xs = np.arange(-50.0,50.0)\n",
    "slope, intercept = 8.31684921498, 17.7816837234\n",
    "ys = (slope*xs)+intercept\n",
    "ax.plot(xs,ys, color='deepskyblue')\n",
    "        \n",
    "plt.ylim(-65,-40)\n",
    "plt.xlim(-9,-6.5)\n",
    "plt.grid(alpha=.2)\n",
    "plt.title('Tree #167',fontsize=8)\n",
    "plt.savefig('../Figs/AGU/quiver-1.png', dpi=400)"
   ]
  },
  {
   "cell_type": "code",
   "execution_count": 30,
   "metadata": {},
   "outputs": [
    {
     "data": {
      "text/html": [
       "<div>\n",
       "<style scoped>\n",
       "    .dataframe tbody tr th:only-of-type {\n",
       "        vertical-align: middle;\n",
       "    }\n",
       "\n",
       "    .dataframe tbody tr th {\n",
       "        vertical-align: top;\n",
       "    }\n",
       "\n",
       "    .dataframe thead th {\n",
       "        text-align: right;\n",
       "    }\n",
       "</style>\n",
       "<table border=\"1\" class=\"dataframe\">\n",
       "  <thead>\n",
       "    <tr style=\"text-align: right;\">\n",
       "      <th></th>\n",
       "      <th>ERCZO ID</th>\n",
       "      <th>Original Sample Vial Label</th>\n",
       "      <th>Date Collected</th>\n",
       "      <th>Time Collected</th>\n",
       "      <th>Site</th>\n",
       "      <th>Location</th>\n",
       "      <th>Sample Type</th>\n",
       "      <th>Sample Type II</th>\n",
       "      <th>Well water level [m]</th>\n",
       "      <th>Species (common)</th>\n",
       "      <th>...</th>\n",
       "      <th>Notes</th>\n",
       "      <th>HD Run ID</th>\n",
       "      <th>dD</th>\n",
       "      <th>GB Run ID</th>\n",
       "      <th>dO</th>\n",
       "      <th>Sample Vial Location</th>\n",
       "      <th>Date Collection Started</th>\n",
       "      <th>Energetic state</th>\n",
       "      <th>datetime</th>\n",
       "      <th>date</th>\n",
       "    </tr>\n",
       "  </thead>\n",
       "  <tbody>\n",
       "  </tbody>\n",
       "</table>\n",
       "<p>0 rows × 25 columns</p>\n",
       "</div>"
      ],
      "text/plain": [
       "Empty DataFrame\n",
       "Columns: [ERCZO ID, Original Sample Vial Label, Date Collected, Time Collected, Site, Location, Sample Type, Sample Type II, Well water level [m], Species (common), Species (scientific), Depth (cm), Depth (ft), Gravimetric Moisture Content (g/g), Collected By, Notes, HD Run ID, dD, GB Run ID, dO, Sample Vial Location, Date Collection Started, Energetic state, datetime, date]\n",
       "Index: []\n",
       "\n",
       "[0 rows x 25 columns]"
      ]
     },
     "execution_count": 30,
     "metadata": {},
     "output_type": "execute_result"
    }
   ],
   "source": [
    "nov2016Soil"
   ]
  },
  {
   "cell_type": "code",
   "execution_count": null,
   "metadata": {},
   "outputs": [],
   "source": []
  }
 ],
 "metadata": {
  "kernelspec": {
   "display_name": "Python [default]",
   "language": "python",
   "name": "python2"
  },
  "language_info": {
   "codemirror_mode": {
    "name": "ipython",
    "version": 2
   },
   "file_extension": ".py",
   "mimetype": "text/x-python",
   "name": "python",
   "nbconvert_exporter": "python",
   "pygments_lexer": "ipython2",
   "version": "2.7.14"
  }
 },
 "nbformat": 4,
 "nbformat_minor": 1
}
