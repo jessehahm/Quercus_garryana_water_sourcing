{
 "cells": [
  {
   "cell_type": "code",
   "execution_count": 1,
   "metadata": {},
   "outputs": [],
   "source": [
    "import pandas as pd\n",
    "import matplotlib.pyplot as plt\n",
    "import numpy as np\n",
    "import os\n",
    "from matplotlib import cm\n",
    "import matplotlib.cm as cmx\n",
    "import matplotlib.colors as colors\n",
    "plt.rcParams[\"font.sans-serif\"] = \"Arial\"\n",
    "plt.rcParams['pdf.fonttype'] = 42\n",
    "plt.rcParams['ps.fonttype'] = 42\n",
    "import datetime as dt\n",
    "plt.rcParams['figure.autolayout'] = True\n",
    "\n",
    "plt.rcParams['mathtext.fontset'] = 'stix'\n",
    "plt.rcParams['mathtext.rm'] = 'Arial'\n",
    "plt.rcParams['mathtext.it'] = 'Arial'\n",
    "plt.rcParams['mathtext.bf'] = 'Helvetica:bold'\n",
    "plt.rcParams['font.size'] = 8\n",
    "import matplotlib as mpl\n",
    "\n",
    "%matplotlib inline\n"
   ]
  },
  {
   "cell_type": "code",
   "execution_count": null,
   "metadata": {},
   "outputs": [],
   "source": []
  },
  {
   "cell_type": "code",
   "execution_count": 2,
   "metadata": {},
   "outputs": [],
   "source": [
    "df = pd.read_csv('../Data/isotope-data.csv',\n",
    "                 sep=',',  skiprows = [1])\n",
    "df['Date Collected'] = pd.to_datetime(df['Date Collected'])\n"
   ]
  },
  {
   "cell_type": "code",
   "execution_count": 3,
   "metadata": {},
   "outputs": [],
   "source": [
    "sagehorn = df[df['Site']=='Sagehorn']\n",
    "\n",
    "drilled = sagehorn[(sagehorn['Sample Type II']=='Drilled material')]\n",
    "drilled = drilled[drilled['Location'] != 'W504']\n",
    "\n",
    "drilled['day'] = drilled['Date Collected'].dt.date\n",
    "\n",
    "drilled['day'].replace({dt.date(2015, 8, 3): dt.date(2015, 8, 4)}, regex=True, inplace=True)\n",
    "drilled['day'].replace({dt.date(2015, 9, 27): dt.date(2015, 9, 28)}, regex=True, inplace=True)\n",
    "\n",
    "drilled['dayofyear'] = drilled['Date Collected'].dt.dayofyear\n",
    "\n",
    "drilled2016 = drilled[drilled['Date Collected'] > pd.to_datetime('2016-01-01 00:00:00')]\n",
    "\n",
    "#august 3/4 2015\n",
    "drilled2015 = drilled[(drilled['Date Collected'] > pd.to_datetime('2015-08-01 00:00:00')) &\n",
    "                      (drilled['Date Collected'] < pd.to_datetime('2015-08-05 00:00:00'))]\n",
    "\n",
    "#drilled.Location.fillna(drilled['Sample Type II'], inplace=True)\n",
    "drilled['edgecolors']='black'\n",
    "drilled.loc[drilled['Energetic state'] == 'saturated', 'edgecolors'] = 'gold'\n"
   ]
  },
  {
   "cell_type": "code",
   "execution_count": 5,
   "metadata": {},
   "outputs": [
    {
     "name": "stderr",
     "output_type": "stream",
     "text": [
      "/Users/wjh/anaconda/envs/env1/lib/python2.7/site-packages/ipykernel/__main__.py:3: SettingWithCopyWarning: \n",
      "A value is trying to be set on a copy of a slice from a DataFrame.\n",
      "Try using .loc[row_indexer,col_indexer] = value instead\n",
      "\n",
      "See the caveats in the documentation: http://pandas.pydata.org/pandas-docs/stable/indexing.html#indexing-view-versus-copy\n",
      "  app.launch_new_instance()\n",
      "/Users/wjh/anaconda/envs/env1/lib/python2.7/site-packages/ipykernel/__main__.py:4: SettingWithCopyWarning: \n",
      "A value is trying to be set on a copy of a slice from a DataFrame.\n",
      "Try using .loc[row_indexer,col_indexer] = value instead\n",
      "\n",
      "See the caveats in the documentation: http://pandas.pydata.org/pandas-docs/stable/indexing.html#indexing-view-versus-copy\n"
     ]
    },
    {
     "data": {
      "text/plain": [
       "-44.555868544600948"
      ]
     },
     "execution_count": 5,
     "metadata": {},
     "output_type": "execute_result"
    }
   ],
   "source": [
    "gw = sagehorn[sagehorn['Sample Type II']=='Well water']\n",
    "stems = sagehorn[sagehorn['Sample Type II']=='Stem']\n",
    "stems['day'] = stems['Date Collected'].dt.date\n",
    "stems['dayofyear'] = stems['Date Collected'].dt.dayofyear\n",
    "stems[stems.Location!='T210']\n",
    "stems = stems[(stems['Date Collected'] > pd.to_datetime('2015-01-01 00:00:00'))]\n",
    "\n",
    "gw.dD.mean()"
   ]
  },
  {
   "cell_type": "code",
   "execution_count": null,
   "metadata": {},
   "outputs": [],
   "source": []
  },
  {
   "cell_type": "code",
   "execution_count": 66,
   "metadata": {},
   "outputs": [
    {
     "name": "stderr",
     "output_type": "stream",
     "text": [
      "/Users/wjh/anaconda/envs/env1/lib/python2.7/site-packages/ipykernel/__main__.py:42: SettingWithCopyWarning: \n",
      "A value is trying to be set on a copy of a slice from a DataFrame\n",
      "\n",
      "See the caveats in the documentation: http://pandas.pydata.org/pandas-docs/stable/indexing.html#indexing-view-versus-copy\n",
      "/Users/wjh/anaconda/envs/env1/lib/python2.7/site-packages/ipykernel/__main__.py:72: SettingWithCopyWarning: \n",
      "A value is trying to be set on a copy of a slice from a DataFrame.\n",
      "Try using .loc[row_indexer,col_indexer] = value instead\n",
      "\n",
      "See the caveats in the documentation: http://pandas.pydata.org/pandas-docs/stable/indexing.html#indexing-view-versus-copy\n"
     ]
    },
    {
     "data": {
      "image/png": "[encoded data removed]",
      "text/plain": [
       "<matplotlib.figure.Figure at 0x111a8dfd0>"
      ]
     },
     "metadata": {},
     "output_type": "display_data"
    }
   ],
   "source": [
    "fig, (ax1) = plt.subplots(1, 1, sharey=True, sharex=False, figsize=(4,4))\n",
    "#                                     ,gridspec_kw = {'wspace':.15, 'hspace':0})\n",
    "\n",
    "### Drilled material\n",
    "\n",
    "# unique2016 = np.unique(drilled2016.Location)\n",
    "# unique2015 = np.unique(drilled2015.Location)\n",
    "days = sorted((set(drilled['day'])))\n",
    "days2016 = sorted((set(drilled2016['day'])))\n",
    "\n",
    "def truncate_colormap(cmap, minval=0.0, maxval=1.0, n=100):\n",
    "    new_cmap = colors.LinearSegmentedColormap.from_list(\n",
    "        'trunc({n},{a:.2f},{b:.2f})'.format(n=cmap.name, a=minval, b=maxval),\n",
    "        cmap(np.linspace(minval, maxval, n)))\n",
    "    return new_cmap\n",
    "\n",
    "cmap = plt.cm.get_cmap('cubehelix')\n",
    "cmap = truncate_colormap(cmap, 1.0/8, 1)\n",
    "bounds = [90,120,150, 180, 210, 240, 270, 300, 330]\n",
    "norm = colors.BoundaryNorm(bounds, cmap.N)\n",
    "\n",
    "\n",
    "ax1.scatter(1000,1000,marker = 's',c='white',edgecolors='black',s=30,label='2015')\n",
    "ax1.scatter(1000,1000,marker = 'o',c='white',edgecolors='black',s=50,label='2016')\n",
    "ax1.scatter(1000,1000,marker = '^',c='white',edgecolors='black',s=45,label='2017')\n",
    "# ax1.scatter(1000,1000,marker = 'D',c='white',edgecolors='black',s=30,label='2018')\n",
    "\n",
    "\n",
    "ax1.legend(loc='lower right',scatterpoints=1)\n",
    "\n",
    "ax1.axhspan(gw.dO.mean()-gw.dO.std(), gw.dO.mean()+gw.dO.std(), facecolor='blue', alpha=0.3,zorder=-10,label='Groundwater mean+/-1 std.')\n",
    "# ax2.axvspan(gw.dD.mean()-gw.dD.std(), gw.dD.mean()+gw.dD.std(), facecolor='blue', alpha=0.3,zorder=-10,label='Groundwater')\n",
    "\n",
    "# ax1.axvspan(stems.dO.mean()-stems.dO.std(), stems.dO.mean()+stems.dO.std(), facecolor='green', alpha=0.3,zorder=-10,label='Groundwater mean+/-1 std.')\n",
    "# ax2.axvspan(stems.dD.mean()-stems.dD.std(), stems.dD.mean()+stems.dD.std(), facecolor='green', alpha=0.3,zorder=-10,label='Groundwater')\n",
    "\n",
    "\n",
    "#PLOT SUBSURFACE MATERIALS\n",
    "for day in days:\n",
    "\n",
    "    thisDay = drilled[drilled['day']==day]\n",
    "    thisDay.sort_values(['Depth (cm)'], na_position='last', inplace=True)\n",
    "    if day.year == 2016:\n",
    "        marker = 'o'\n",
    "        size=50\n",
    "    if day.year == 2015:\n",
    "        marker = 's'\n",
    "        size=30\n",
    "    if day.year == 2017:\n",
    "        marker = '^'\n",
    "        size=45\n",
    "    if day.year == 2018:\n",
    "        marker = 'D'\n",
    "        size=30        \n",
    "    plotData = thisDay[pd.isnull(thisDay.dO)==False] \n",
    "#     ax1.scatter(plotData.dO, plotData['Depth (cm)'],\n",
    "#                          marker=marker,\n",
    "#                          c=plotData['dayofyear'], #alpha=0.8,\n",
    "#                          norm=norm,\n",
    "#                          cmap=cmap,\n",
    "#                          edgecolors=plotData['edgecolors'],\n",
    "#                          zorder = 100, s = size,clip_on=True)\n",
    "#     ax2.scatter(thisDay.dD, thisDay['Depth (cm)'],\n",
    "#                          marker=marker,\n",
    "#                          c=thisDay['dayofyear'], #alpha=0.8,\n",
    "#                          norm=norm,\n",
    "#                          cmap=cmap,\n",
    "#                          edgecolors=thisDay['edgecolors'],\n",
    "#                          zorder = 100, s = size,clip_on=True)\n",
    "    plotData = thisDay[pd.isnull(thisDay['Gravimetric Moisture Content (g/g)'])==False] \n",
    "#     plotData['Volumetric moisture content (%)'] = 100*plotData['Gravimetric Moisture Content (g/g)']*(1.65 + .0025*plotData['Depth (cm)'])\n",
    "    plotData['Volumetric moisture content (%)'] = 100*plotData['Gravimetric Moisture Content (g/g)']*(2.6-1.6*np.exp(-plotData['Depth (cm)']/200))\n",
    "\n",
    "    plotData=plotData[plotData['Depth (cm)']>50]\n",
    "    ax1.scatter(plotData['Volumetric moisture content (%)'],plotData.dO, \n",
    "                         marker=marker,\n",
    "                         c=plotData['dayofyear'], #alpha=0.8,\n",
    "                         norm=norm,\n",
    "                         cmap=cmap,\n",
    "                         edgecolors=plotData['edgecolors'],\n",
    "                         zorder = 100, s = size,clip_on=True)\n",
    "\n",
    "ax1.grid(alpha=0.3)\n",
    "ax1.set_xlabel('Cryogenic-extraction inferred \\n gravimetric moisture content (g/g)')\n",
    "ax1.set_xlabel('Volumetric water content (%)')\n",
    "ax1.set_title('Saprolite and \\n weathered bedrock \\n samples (> 50 cm depth)')\n",
    "ax1.set_xlim([0,40])\n",
    "# ax1.set_xticks([0,0.1,0.2,0.3])     \n",
    "ax1.set_ylabel(r'$\\delta^{18}$O' + u'\\u2030')\n",
    "ax1.set_ylim([-15,2])\n",
    " \n",
    "    \n",
    "                                                  \n",
    "\n",
    "# legend = ax1.legend(loc = 'lower right', fontsize=10, #bbox_to_anchor = (0.2,0.2,1,1),\n",
    "#              frameon=True, scatterpoints = 1, markerscale=2.)\n",
    "\n",
    "\n",
    "# plt.axvline(x= -6.87, ymin=0, ymax=1, hold=None, label = 'Well water mean', color='blue')\n",
    "# plt.axvline(x= -7.011, ymin=0, ymax=1, hold=None, label = 'Stream water mean', color='red')\n",
    "# plt.axvline(x= -7.100, ymin=0, ymax=1, hold=None, label = 'Rain water mean', color='black')\n",
    "\n",
    "\n",
    "ax1.text(0.3, .85, 'symbol edge color:',style='italic',\n",
    "        verticalalignment='top', horizontalalignment='left',\n",
    "        transform=ax1.transAxes,bbox={'facecolor':'white','edgecolor':'white', 'alpha':1, 'pad':.1},\n",
    "        color='black', fontsize=10)\n",
    "\n",
    "ax1.text(0.5, .8, 'unsaturated',\n",
    "        verticalalignment='top', horizontalalignment='left',\n",
    "        transform=ax1.transAxes,bbox={'facecolor':'white','edgecolor':'white', 'alpha':1, 'pad':.1},\n",
    "        color='black', fontsize=10)\n",
    "ax1.text(0.5, .75, 'saturated',\n",
    "        verticalalignment='top', horizontalalignment='left',\n",
    "        transform=ax1.transAxes,bbox={'facecolor':'white','edgecolor':'white', 'alpha':1, 'pad':.1},\n",
    "        color='gold', fontsize=10)\n",
    "\n",
    "ax=plt.gca() #get the current axes\n",
    "PCM=ax.get_children()[1] #get the mappable, the 1st and the 2nd are the x and y axes\n",
    "\n",
    "# cb =plt.colorbar(PCM, ax=ax,label='Day of Year',fraction=0.046,# pad=0.04,\n",
    "#                                 cmap=cmap, norm=norm, \n",
    "#                                 ticks=bounds, \n",
    "#                                 boundaries=bounds)\n",
    "# cb.ax.invert_yaxis() \n",
    "# # plt.tight_layout()\n",
    "\n",
    "noteBook = \"dO, dD vs Depth by Date Figure\"\n",
    "savedFile = '../Figs/Fig XX DrilledIso-vs-VolWaterCnt-SapWxBedrock.pdf'\n",
    "# plt.subplots_adjust(wspace=0, hspace=0)\n",
    "# title = plt.suptitle('Sagehorn Augured Subsurface Material')\n",
    "\n",
    "# ax1.set_ylim([0,300])\n",
    "# ax1.invert_yaxis() \n",
    "\n",
    "\n",
    "plt.savefig(savedFile, bbox_inches='tight')\n",
    "# os.startfile(savedFile)\n",
    "# plt.show()\n"
   ]
  },
  {
   "cell_type": "code",
   "execution_count": 42,
   "metadata": {},
   "outputs": [
    {
     "name": "stderr",
     "output_type": "stream",
     "text": [
      "/Users/wjh/anaconda/envs/env1/lib/python2.7/site-packages/ipykernel/__main__.py:42: SettingWithCopyWarning: \n",
      "A value is trying to be set on a copy of a slice from a DataFrame\n",
      "\n",
      "See the caveats in the documentation: http://pandas.pydata.org/pandas-docs/stable/indexing.html#indexing-view-versus-copy\n",
      "/Users/wjh/anaconda/envs/env1/lib/python2.7/site-packages/ipykernel/__main__.py:71: SettingWithCopyWarning: \n",
      "A value is trying to be set on a copy of a slice from a DataFrame.\n",
      "Try using .loc[row_indexer,col_indexer] = value instead\n",
      "\n",
      "See the caveats in the documentation: http://pandas.pydata.org/pandas-docs/stable/indexing.html#indexing-view-versus-copy\n"
     ]
    },
    {
     "data": {
      "image/png": "[encoded data removed]",
      "text/plain": [
       "<matplotlib.figure.Figure at 0x111bdb650>"
      ]
     },
     "metadata": {},
     "output_type": "display_data"
    }
   ],
   "source": [
    "fig, (ax1) = plt.subplots(1, 1, sharey=True, sharex=False, figsize=(4,4))\n",
    "#                                     ,gridspec_kw = {'wspace':.15, 'hspace':0})\n",
    "\n",
    "### Drilled material\n",
    "\n",
    "# unique2016 = np.unique(drilled2016.Location)\n",
    "# unique2015 = np.unique(drilled2015.Location)\n",
    "days = sorted((set(drilled['day'])))\n",
    "days2016 = sorted((set(drilled2016['day'])))\n",
    "\n",
    "def truncate_colormap(cmap, minval=0.0, maxval=1.0, n=100):\n",
    "    new_cmap = colors.LinearSegmentedColormap.from_list(\n",
    "        'trunc({n},{a:.2f},{b:.2f})'.format(n=cmap.name, a=minval, b=maxval),\n",
    "        cmap(np.linspace(minval, maxval, n)))\n",
    "    return new_cmap\n",
    "\n",
    "cmap = plt.cm.get_cmap('cubehelix')\n",
    "cmap = truncate_colormap(cmap, 1.0/8, 1)\n",
    "bounds = [90,120,150, 180, 210, 240, 270, 300, 330]\n",
    "norm = colors.BoundaryNorm(bounds, cmap.N)\n",
    "\n",
    "\n",
    "ax1.scatter(1000,1000,marker = 's',c='white',edgecolors='black',s=30,label='2015')\n",
    "ax1.scatter(1000,1000,marker = 'o',c='white',edgecolors='black',s=50,label='2016')\n",
    "ax1.scatter(1000,1000,marker = '^',c='white',edgecolors='black',s=45,label='2017')\n",
    "# ax1.scatter(1000,1000,marker = 'D',c='white',edgecolors='black',s=30,label='2018')\n",
    "\n",
    "\n",
    "ax1.legend(loc='lower right',scatterpoints=1)\n",
    "\n",
    "ax1.axhspan(gw.dO.mean()-gw.dO.std(), gw.dO.mean()+gw.dO.std(), facecolor='blue', alpha=0.3,zorder=-10,label='Groundwater mean+/-1 std.')\n",
    "# ax2.axvspan(gw.dD.mean()-gw.dD.std(), gw.dD.mean()+gw.dD.std(), facecolor='blue', alpha=0.3,zorder=-10,label='Groundwater')\n",
    "\n",
    "# ax1.axvspan(stems.dO.mean()-stems.dO.std(), stems.dO.mean()+stems.dO.std(), facecolor='green', alpha=0.3,zorder=-10,label='Groundwater mean+/-1 std.')\n",
    "# ax2.axvspan(stems.dD.mean()-stems.dD.std(), stems.dD.mean()+stems.dD.std(), facecolor='green', alpha=0.3,zorder=-10,label='Groundwater')\n",
    "\n",
    "\n",
    "#PLOT SUBSURFACE MATERIALS\n",
    "for day in days:\n",
    "\n",
    "    thisDay = drilled[drilled['day']==day]\n",
    "    thisDay.sort_values(['Depth (cm)'], na_position='last', inplace=True)\n",
    "    if day.year == 2016:\n",
    "        marker = 'o'\n",
    "        size=50\n",
    "    if day.year == 2015:\n",
    "        marker = 's'\n",
    "        size=30\n",
    "    if day.year == 2017:\n",
    "        marker = '^'\n",
    "        size=45\n",
    "    if day.year == 2018:\n",
    "        marker = 'D'\n",
    "        size=30        \n",
    "    plotData = thisDay[pd.isnull(thisDay.dO)==False] \n",
    "#     ax1.scatter(plotData.dO, plotData['Depth (cm)'],\n",
    "#                          marker=marker,\n",
    "#                          c=plotData['dayofyear'], #alpha=0.8,\n",
    "#                          norm=norm,\n",
    "#                          cmap=cmap,\n",
    "#                          edgecolors=plotData['edgecolors'],\n",
    "#                          zorder = 100, s = size,clip_on=True)\n",
    "#     ax2.scatter(thisDay.dD, thisDay['Depth (cm)'],\n",
    "#                          marker=marker,\n",
    "#                          c=thisDay['dayofyear'], #alpha=0.8,\n",
    "#                          norm=norm,\n",
    "#                          cmap=cmap,\n",
    "#                          edgecolors=thisDay['edgecolors'],\n",
    "#                          zorder = 100, s = size,clip_on=True)\n",
    "    plotData = thisDay[pd.isnull(thisDay['Gravimetric Moisture Content (g/g)'])==False] \n",
    "    plotData['Volumetric moisture content (%)'] = 100*plotData['Gravimetric Moisture Content (g/g)']*(1.65 + .0025*plotData['Depth (cm)'])\n",
    "    plotData['Volumetric moisture content (%)'] = 100*plotData['Gravimetric Moisture Content (g/g)']*(1.65 + .0025*plotData['Depth (cm)'])\n",
    "\n",
    "    plotData=plotData[plotData['Depth (cm)']<=50]\n",
    "    ax1.scatter(plotData['Volumetric moisture content (%)'],plotData.dO, \n",
    "                         marker=marker,\n",
    "                         c=plotData['dayofyear'], #alpha=0.8,\n",
    "                         norm=norm,\n",
    "                         cmap=cmap,\n",
    "                         edgecolors=plotData['edgecolors'],\n",
    "                         zorder = 100, s = size,clip_on=True)\n",
    "\n",
    "ax1.grid(alpha=0.3)\n",
    "ax1.set_xlabel('Cryogenic-extraction inferred \\n gravimetric moisture content (g/g)')\n",
    "ax1.set_xlabel('Volumetric water content (%)')\n",
    "ax1.set_title('Soil samples (<= 50 cm depth)')\n",
    "ax1.set_xlim([0,40])\n",
    "# ax1.set_xticks([0,0.1,0.2,0.3])     \n",
    "ax1.set_ylabel(r'$\\delta^{18}$O' + u'\\u2030')\n",
    "ax1.set_ylim([-15,2])\n",
    " \n",
    "    \n",
    "                                                  \n",
    "\n",
    "# legend = ax1.legend(loc = 'lower right', fontsize=10, #bbox_to_anchor = (0.2,0.2,1,1),\n",
    "#              frameon=True, scatterpoints = 1, markerscale=2.)\n",
    "\n",
    "\n",
    "# plt.axvline(x= -6.87, ymin=0, ymax=1, hold=None, label = 'Well water mean', color='blue')\n",
    "# plt.axvline(x= -7.011, ymin=0, ymax=1, hold=None, label = 'Stream water mean', color='red')\n",
    "# plt.axvline(x= -7.100, ymin=0, ymax=1, hold=None, label = 'Rain water mean', color='black')\n",
    "\n",
    "\n",
    "ax1.text(0.5, .85, 'symbol edge color:',style='italic',\n",
    "        verticalalignment='top', horizontalalignment='left',\n",
    "        transform=ax1.transAxes,bbox={'facecolor':'white','edgecolor':'white', 'alpha':1, 'pad':.1},\n",
    "        color='black', fontsize=10)\n",
    "\n",
    "ax1.text(0.5, .8, 'unsaturated',\n",
    "        verticalalignment='top', horizontalalignment='left',\n",
    "        transform=ax1.transAxes,bbox={'facecolor':'white','edgecolor':'white', 'alpha':1, 'pad':.1},\n",
    "        color='black', fontsize=10)\n",
    "ax1.text(0.5, .75, 'saturated',\n",
    "        verticalalignment='top', horizontalalignment='left',\n",
    "        transform=ax1.transAxes,bbox={'facecolor':'white','edgecolor':'white', 'alpha':1, 'pad':.1},\n",
    "        color='gold', fontsize=10)\n",
    "\n",
    "ax=plt.gca() #get the current axes\n",
    "PCM=ax.get_children()[1] #get the mappable, the 1st and the 2nd are the x and y axes\n",
    "\n",
    "# cb =plt.colorbar(PCM, ax=ax,label='Day of Year',fraction=0.046,# pad=0.04,\n",
    "#                                 cmap=cmap, norm=norm, \n",
    "#                                 ticks=bounds, \n",
    "#                                 boundaries=bounds)\n",
    "# cb.ax.invert_yaxis() \n",
    "# # plt.tight_layout()\n",
    "\n",
    "noteBook = \"dO, dD vs Depth by Date Figure\"\n",
    "savedFile = '../Figs/Fig XX DrilledIso-vs-VolWaterCnt-soils.pdf'\n",
    "# plt.subplots_adjust(wspace=0, hspace=0)\n",
    "# title = plt.suptitle('Sagehorn Augured Subsurface Material')\n",
    "\n",
    "# ax1.set_ylim([0,300])\n",
    "# ax1.invert_yaxis() \n",
    "\n",
    "\n",
    "plt.savefig(savedFile, bbox_inches='tight')\n",
    "# os.startfile(savedFile)\n",
    "# plt.show()\n"
   ]
  },
  {
   "cell_type": "code",
   "execution_count": 13,
   "metadata": {},
   "outputs": [
    {
     "data": {
      "text/plain": [
       "800    0.1096\n",
       "798    0.1251\n",
       "796    0.1352\n",
       "797    0.1103\n",
       "801    0.1313\n",
       "Name: Gravimetric Moisture Content (g/g), dtype: float64"
      ]
     },
     "execution_count": 13,
     "metadata": {},
     "output_type": "execute_result"
    }
   ],
   "source": [
    "plotData['Gravimetric Moisture Content (g/g)']"
   ]
  },
  {
   "cell_type": "code",
   "execution_count": 14,
   "metadata": {},
   "outputs": [
    {
     "data": {
      "text/plain": [
       "<matplotlib.collections.PathCollection at 0x108f6a3d0>"
      ]
     },
     "execution_count": 14,
     "metadata": {},
     "output_type": "execute_result"
    },
    {
     "data": {
      "image/png": "[encoded data removed]",
      "text/plain": [
       "<matplotlib.figure.Figure at 0x108fcf810>"
      ]
     },
     "metadata": {},
     "output_type": "display_data"
    }
   ],
   "source": [
    "plt.scatter(plotData.dO, plotData['Gravimetric Moisture Content (g/g)'],\n",
    "                         marker=marker,\n",
    "                         c=plotData['dayofyear'], #alpha=0.8,\n",
    "                         norm=norm,\n",
    "                         cmap=cmap,\n",
    "                         edgecolors=plotData['edgecolors'],\n",
    "                         zorder = 100, s = size,clip_on=True)\n"
   ]
  },
  {
   "cell_type": "code",
   "execution_count": 65,
   "metadata": {},
   "outputs": [
    {
     "data": {
      "text/plain": [
       "(400, 0)"
      ]
     },
     "execution_count": 65,
     "metadata": {},
     "output_type": "execute_result"
    },
    {
     "data": {
      "image/png": "[encoded data removed]",
      "text/plain": [
       "<matplotlib.figure.Figure at 0x111810c10>"
      ]
     },
     "metadata": {},
     "output_type": "display_data"
    }
   ],
   "source": [
    "y = np.linspace(0,400)\n",
    "x = 2.6-1.6*np.exp(-y/100)\n",
    "plt.plot(x,y)\n",
    "plt.ylim(400,0)"
   ]
  },
  {
   "cell_type": "code",
   "execution_count": null,
   "metadata": {},
   "outputs": [],
   "source": []
  }
 ],
 "metadata": {
  "kernelspec": {
   "display_name": "Python [default]",
   "language": "python",
   "name": "python2"
  },
  "language_info": {
   "codemirror_mode": {
    "name": "ipython",
    "version": 2
   },
   "file_extension": ".py",
   "mimetype": "text/x-python",
   "name": "python",
   "nbconvert_exporter": "python",
   "pygments_lexer": "ipython2",
   "version": "2.7.14"
  }
 },
 "nbformat": 4,
 "nbformat_minor": 1
}
