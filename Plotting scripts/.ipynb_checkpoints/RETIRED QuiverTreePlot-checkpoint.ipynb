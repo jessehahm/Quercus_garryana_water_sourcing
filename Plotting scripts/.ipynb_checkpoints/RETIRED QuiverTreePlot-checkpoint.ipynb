{
 "cells": [
  {
   "cell_type": "code",
   "execution_count": 4,
   "metadata": {
    "collapsed": true
   },
   "outputs": [],
   "source": [
    "import pandas as pd\n",
    "import matplotlib.pyplot as plt\n",
    "import numpy as np\n",
    "from matplotlib import cm\n",
    "import matplotlib.cm as cmx\n",
    "import matplotlib.colors as colors\n",
    "plt.rcParams[\"font.sans-serif\"] = \"Arial\"\n",
    "plt.rcParams['pdf.fonttype'] = 42\n",
    "plt.rcParams['ps.fonttype'] = 42\n",
    "plt.rcParams['figure.autolayout'] = True\n",
    "\n",
    "plt.rcParams['mathtext.fontset'] = 'stix'\n",
    "plt.rcParams['mathtext.rm'] = 'Helvetica'\n",
    "plt.rcParams['mathtext.it'] = 'Helvetica:italic'\n",
    "plt.rcParams['mathtext.bf'] = 'Helvetica:bold'\n",
    "plt.rcParams['font.size'] = 8\n",
    "from datetime import datetime\n",
    "import matplotlib as mpl\n",
    "%matplotlib inline\n",
    "\n"
   ]
  },
  {
   "cell_type": "code",
   "execution_count": 5,
   "metadata": {
    "collapsed": true
   },
   "outputs": [],
   "source": [
    "df = pd.read_csv('../Data/isotope-data.csv',\n",
    "                 sep=',',  skiprows = [1])\n",
    "df['Time Collected'] = df['Time Collected'].fillna('12:00')\n",
    "df['datetime'] = pd.to_datetime(df['Date Collected']+ ' ' + df['Time Collected'])\n",
    "df['date'] = pd.to_datetime(df['Date Collected'])\n",
    "\n",
    "\n",
    "sagehornOaks = df[df['Species (scientific)']=='QUGA']\n",
    "\n",
    "startDateTime = pd.to_datetime('2016-01-01 00:00:00')\n",
    "stopDateTime = pd.to_datetime('2017-01-01 00:00:00')\n",
    "\n",
    "sagehornOaks2016 = sagehornOaks[sagehornOaks['datetime'] > startDateTime] \n",
    "sagehornOaks2016 = sagehornOaks2016[sagehornOaks2016['datetime'] < stopDateTime] \n",
    "\n",
    "stems = sagehornOaks2016[sagehornOaks2016['Sample Type II']=='Stem']\n",
    "stems = stems[stems.Location != 'T87']\n"
   ]
  },
  {
   "cell_type": "code",
   "execution_count": 7,
   "metadata": {},
   "outputs": [
    {
     "name": "stderr",
     "output_type": "stream",
     "text": [
      "/anaconda3/lib/python3.6/site-packages/ipykernel_launcher.py:2: SettingWithCopyWarning: \n",
      "A value is trying to be set on a copy of a slice from a DataFrame\n",
      "\n",
      "See the caveats in the documentation: http://pandas.pydata.org/pandas-docs/stable/indexing.html#indexing-view-versus-copy\n",
      "  \n",
      "/anaconda3/lib/python3.6/site-packages/matplotlib/figure.py:2369: UserWarning: This figure includes Axes that are not compatible with tight_layout, so results might be incorrect.\n",
      "  warnings.warn(\"This figure includes Axes that are not compatible \"\n"
     ]
    },
    {
     "data": {
      "image/png": "[encoded data removed]",
      "text/plain": [
       "<Figure size 216x216 with 1 Axes>"
      ]
     },
     "metadata": {
      "needs_background": "light"
     },
     "output_type": "display_data"
    }
   ],
   "source": [
    "tree = stems[stems['Location']=='T167/208']\n",
    "tree.sort_values(by='date',inplace=True)\n",
    "plt.rcParams['font.size'] = 8\n",
    "\n",
    "fig, ax = plt.subplots(1, 1, sharex=True, figsize=((3),(3)))\n",
    "# ax.scatter(T207.dO, T207.dD)\n",
    "\n",
    "days = sorted((set(tree.date)))\n",
    "cNorm  = colors.Normalize(vmin=-1, vmax=(len(days)))\n",
    "scalarMap = cmx.ScalarMappable(norm=cNorm, cmap=plt.get_cmap('tab10') ) #_r reverses cmap\n",
    "\n",
    "\n",
    "for day in days:\n",
    "    thisDay = tree[tree.date==day]\n",
    "    ax.scatter(thisDay.dO, thisDay.dD, s=30,\n",
    "               marker='^', \n",
    "                 label=day.date(),\n",
    "                 c=colors.rgb2hex(scalarMap.to_rgba((days.index(day)))), #alpha=0.8,\n",
    "                 zorder=100,edgecolor='black')\n",
    "\n",
    "ax.set_xlabel(r'$\\delta^{18}$O' + u'\\u2030')\n",
    "ax.set_ylabel(r'$\\delta$D' + u'\\u2030')\n",
    "\n",
    "ax.quiver(tree['dO'][:-1], tree['dD'][:-1], \n",
    "          np.roll(tree['dO'].values,-1)[:-1]-tree['dO'][:-1], np.roll(tree['dD'].values,-1)[:-1]-tree['dD'][:-1],\n",
    "          scale=1, color='grey',\n",
    "          scale_units='xy', angles='xy',\n",
    "          headwidth=5,headlength=8)\n",
    "ax.legend(loc='upper left',scatterpoints=1,fontsize=8,handletextpad=0)\n",
    "plt.grid(alpha=.2)\n",
    "plt.title('Tree #167',fontsize=8)\n",
    "plt.savefig('../Figs/IndividualTreeQuiverPlot.pdf')"
   ]
  },
  {
   "cell_type": "code",
   "execution_count": null,
   "metadata": {
    "collapsed": true
   },
   "outputs": [],
   "source": []
  },
  {
   "cell_type": "code",
   "execution_count": null,
   "metadata": {},
   "outputs": [],
   "source": []
  },
  {
   "cell_type": "code",
   "execution_count": null,
   "metadata": {},
   "outputs": [],
   "source": []
  }
 ],
 "metadata": {
  "kernelspec": {
   "display_name": "Python 3",
   "language": "python",
   "name": "python3"
  },
  "language_info": {
   "codemirror_mode": {
    "name": "ipython",
    "version": 3
   },
   "file_extension": ".py",
   "mimetype": "text/x-python",
   "name": "python",
   "nbconvert_exporter": "python",
   "pygments_lexer": "ipython3",
   "version": "3.6.8"
  }
 },
 "nbformat": 4,
 "nbformat_minor": 2
}
